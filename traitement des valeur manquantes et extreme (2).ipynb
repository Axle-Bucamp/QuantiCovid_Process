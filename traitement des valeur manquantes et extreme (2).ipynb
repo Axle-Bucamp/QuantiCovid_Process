{
  "cells": [
    {
      "cell_type": "code",
      "execution_count": null,
      "id": "1f7f608f",
      "metadata": {
        "id": "1f7f608f"
      },
      "outputs": [],
      "source": [
        "import pandas as pd\n",
        "import numpy as np\n",
        "import json\n",
        "pd.set_option('display.max_columns', None)\n",
        "## id du pays à traiter\n",
        "paysid = 3\n",
        "df = pd.read_excel(\"columnNameChange.xlsx\", sheet_name='data_raw')\n",
        "df_meta = pd.read_excel(\"columnNameChange.xlsx\", sheet_name='meta_data')"
      ]
    },
    {
      "cell_type": "code",
      "execution_count": null,
      "id": "7aa33718",
      "metadata": {
        "id": "7aa33718"
      },
      "outputs": [],
      "source": [
        "df_col = pd.read_excel(\"donnée_Quanti_avecMeta.xlsx\", sheet_name=\"MetaColumn\")\n",
        "df_col.head()"
      ]
    },
    {
      "cell_type": "code",
      "execution_count": null,
      "id": "a48486a6",
      "metadata": {
        "id": "a48486a6"
      },
      "outputs": [],
      "source": [
        "## si filtre par pays\n",
        "df = df[df[\"Pays\"]==paysid]"
      ]
    },
    {
      "cell_type": "code",
      "execution_count": null,
      "id": "9ccef137",
      "metadata": {
        "id": "9ccef137"
      },
      "outputs": [],
      "source": [
        "df.shape"
      ]
    },
    {
      "cell_type": "code",
      "execution_count": null,
      "id": "4f81d897",
      "metadata": {
        "scrolled": true,
        "id": "4f81d897"
      },
      "outputs": [],
      "source": [
        "df.isna().sum()"
      ]
    },
    {
      "cell_type": "code",
      "execution_count": null,
      "id": "77578bc0",
      "metadata": {
        "id": "77578bc0"
      },
      "outputs": [],
      "source": [
        "df.drop([\"Unnamed: 0\",\"Unique ID\"],inplace=True,axis=1)"
      ]
    },
    {
      "cell_type": "code",
      "execution_count": null,
      "id": "ffc7b6ab",
      "metadata": {
        "id": "ffc7b6ab"
      },
      "outputs": [],
      "source": [
        "key_non_str= []\n",
        "for column in df:\n",
        "    if df[column].dtype != 'O':\n",
        "        key_non_str.append(column)"
      ]
    },
    {
      "cell_type": "code",
      "execution_count": null,
      "id": "680f97fd",
      "metadata": {
        "scrolled": true,
        "id": "680f97fd"
      },
      "outputs": [],
      "source": [
        "from scipy import stats\n",
        "from scipy.stats import kurtosistest\n",
        "from sklearn.ensemble import IsolationForest\n",
        "\n",
        "df.dropna(axis=0, how='all', inplace=True)\n",
        "ignore_extreme_key = [\"qtime\",\"code_postal\",\"Pays\",\"Metier\",\"Regions\",\"ville\",\"ville_chine\",\"Region_It\"]\n",
        "\n",
        "df.replace(99, -1, inplace= True)\n",
        "df.replace(98,-1, inplace= True)\n",
        "\n",
        "for column in df.columns :\n",
        "    \n",
        "    if df[column].dtype != 'O' :\n",
        "\n",
        "        # missing value \n",
        "        sumNa = df[column].isna().sum()\n",
        "        if sumNa > df[column].shape[0] * 0.1 :\n",
        "            df[column].fillna(-1, inplace=True)\n",
        "        elif sumNa > 0 :\n",
        "            df.dropna(subset=[column], inplace=True)\n",
        "        \n",
        "        # valeur extreme \n",
        "        if column not in ignore_extreme_key :\n",
        "            if all(np.isin([1,2,3,4,5,6],np.unique(df[column]))) : \n",
        "                t_stat, p = kurtosistest(df[column])\n",
        "            else :\n",
        "                t_stat, p = stats.normaltest(df[column])\n",
        "\n",
        "            if p > 0.05 and abs(max(stats.zscore(df[column]))) > 3 :\n",
        "                #print(\"''' normal column :\" + column)\n",
        "                print(column + \"  : \" + str(max(stats.zscore(df[column]))) + \"  max :\" + str(max(df[column])) + \"  mean :\" + str(np.mean(df[column])) + \"p :\" + str(p) )\n",
        "\n",
        "                Q1 = df[column].quantile([0.25]).iloc[0]\n",
        "                Q3 = df[column].quantile([0.75]).iloc[0]\n",
        "                IQR = Q3 - Q1\n",
        "\n",
        "                df.loc[df[column] >= (Q3+1.5*IQR), column] = Q3\n",
        "                df.loc[df[column] <= (Q1-1.5*IQR), column] = Q1"
      ]
    },
    {
      "cell_type": "code",
      "execution_count": null,
      "id": "527293e6",
      "metadata": {
        "id": "527293e6"
      },
      "outputs": [],
      "source": [
        "df.head()"
      ]
    },
    {
      "cell_type": "code",
      "execution_count": null,
      "id": "ca6dd4f5",
      "metadata": {
        "scrolled": true,
        "id": "ca6dd4f5"
      },
      "outputs": [],
      "source": [
        "df.describe()"
      ]
    },
    {
      "cell_type": "code",
      "execution_count": null,
      "id": "9efff17d",
      "metadata": {
        "id": "9efff17d"
      },
      "outputs": [],
      "source": [
        "df.shape"
      ]
    },
    {
      "cell_type": "code",
      "execution_count": null,
      "id": "78eaed75",
      "metadata": {
        "id": "78eaed75"
      },
      "outputs": [],
      "source": [
        "with pd.ExcelWriter('QuantiCovid_Valeur-Extreme-MissingCH.xlsx') as writer:  \n",
        "    df.to_excel(writer, sheet_name='data_raw')"
      ]
    },
    {
      "cell_type": "code",
      "execution_count": null,
      "id": "16c40a05",
      "metadata": {
        "id": "16c40a05"
      },
      "outputs": [],
      "source": [
        "from sklearn.ensemble import IsolationForest\n",
        "import numpy as np\n",
        "\n",
        "clf = IsolationForest(n_estimators=25, warm_start=True)\n",
        "clf.fit(df[key_non_str].drop(ignore_extreme_key,axis=1))\n",
        "outlier = clf.predict(df[key_non_str].drop(ignore_extreme_key,axis=1))"
      ]
    },
    {
      "cell_type": "code",
      "execution_count": null,
      "id": "5fea1e14",
      "metadata": {
        "id": "5fea1e14"
      },
      "outputs": [],
      "source": [
        "boundindex = np.where(outlier > 0, True, False)"
      ]
    },
    {
      "cell_type": "code",
      "execution_count": null,
      "id": "be88a928",
      "metadata": {
        "id": "be88a928"
      },
      "outputs": [],
      "source": [
        "df = df.loc[boundindex]"
      ]
    },
    {
      "cell_type": "code",
      "execution_count": null,
      "id": "2b03464d",
      "metadata": {
        "scrolled": true,
        "id": "2b03464d"
      },
      "outputs": [],
      "source": [
        "df.shape"
      ]
    },
    {
      "cell_type": "code",
      "execution_count": null,
      "id": "a1d90f02",
      "metadata": {
        "scrolled": true,
        "id": "a1d90f02"
      },
      "outputs": [],
      "source": [
        "df.describe()"
      ]
    },
    {
      "cell_type": "code",
      "execution_count": null,
      "id": "6aead96c",
      "metadata": {
        "id": "6aead96c"
      },
      "outputs": [],
      "source": [
        "with pd.ExcelWriter('QuantiCovid_isolationForestCH.xlsx') as writer:  \n",
        "    df.to_excel(writer, sheet_name='data_raw')\n",
        "\n",
        "df.to_csv('QuantiCovid_isolationForestCH.csv')"
      ]
    },
    {
      "cell_type": "code",
      "execution_count": null,
      "id": "8bcf0eec",
      "metadata": {
        "id": "8bcf0eec"
      },
      "outputs": [],
      "source": [
        "key_non_str= []\n",
        "for column in df:\n",
        "    if df[column].dtype != 'O' :\n",
        "        key_non_str.append(column)\n",
        "key_non_str.remove(\"qtime\")\n",
        "key_non_str.remove(\"code_postal\")\n",
        "key_non_str.remove(\"status\")\n",
        "key_non_str.remove(\"Pays\")"
      ]
    },
    {
      "cell_type": "code",
      "execution_count": null,
      "id": "33718da7",
      "metadata": {
        "id": "33718da7"
      },
      "outputs": [],
      "source": [
        "import plotly.graph_objects as go\n",
        "y = 0\n",
        "\n",
        "class Found(Exception): pass\n",
        "try:\n",
        "    while len(key_non_str) > 0:\n",
        "        fig = go.Figure()\n",
        "\n",
        "        for i in range(5):\n",
        "            if y < len(key_non_str):\n",
        "                column = key_non_str[y]\n",
        "                key_non_str.remove(column)\n",
        "                fig.add_trace(go.Box(y=df[df[column] != -1][column] / np.max(df[column]), name = column))\n",
        "                y += 1\n",
        "                \n",
        "        fig.show()\n",
        "        if y > 50:\n",
        "            raise Found\n",
        "       \n",
        "except Found:\n",
        "    print(\"end\")"
      ]
    },
    {
      "cell_type": "code",
      "execution_count": null,
      "id": "ba62914d",
      "metadata": {
        "id": "ba62914d"
      },
      "outputs": [],
      "source": [
        "import plotly.graph_objects as go\n",
        "y = 0\n",
        "\n",
        "class Found(Exception): pass\n",
        "try:\n",
        "    while len(key_non_str) > 0:\n",
        "        fig = go.Figure()\n",
        "\n",
        "        for i in range(5):\n",
        "            if y < len(key_non_str):\n",
        "                column = key_non_str[y]\n",
        "                key_non_str.remove(column)\n",
        "                fig.add_trace(go.Box(y=df[df[column] != -1][column] / np.max(df[column]), name = column))\n",
        "                y += 1\n",
        "                \n",
        "        fig.show()\n",
        "        if y > 50:\n",
        "            raise Found\n",
        "       \n",
        "except Found:\n",
        "    print(\"end\")"
      ]
    },
    {
      "cell_type": "code",
      "execution_count": null,
      "id": "eefd89e3",
      "metadata": {
        "id": "eefd89e3"
      },
      "outputs": [],
      "source": [
        "import plotly.graph_objects as go\n",
        "y = 0\n",
        "\n",
        "class Found(Exception): pass\n",
        "try:\n",
        "    while len(key_non_str) > 0:\n",
        "        fig = go.Figure()\n",
        "\n",
        "        for i in range(5):\n",
        "            if y < len(key_non_str):\n",
        "                column = key_non_str[y]\n",
        "                key_non_str.remove(column)\n",
        "                fig.add_trace(go.Box(y=df[df[column] != -1][column] / np.max(df[column]), name = column))\n",
        "                y += 1\n",
        "                \n",
        "        fig.show()\n",
        "        if y > 50:\n",
        "            raise Found\n",
        "       \n",
        "except Found:\n",
        "    print(\"end\")"
      ]
    },
    {
      "cell_type": "code",
      "execution_count": null,
      "id": "4e9df353",
      "metadata": {
        "id": "4e9df353"
      },
      "outputs": [],
      "source": [
        "import plotly.graph_objects as go\n",
        "y = 0\n",
        "\n",
        "class Found(Exception): pass\n",
        "try:\n",
        "    while len(key_non_str) > 0:\n",
        "        fig = go.Figure()\n",
        "\n",
        "        for i in range(5):\n",
        "            if y < len(key_non_str):\n",
        "                column = key_non_str[y]\n",
        "                key_non_str.remove(column)\n",
        "                fig.add_trace(go.Box(y=df[df[column] != -1][column] / np.max(df[column]), name = column))\n",
        "                y += 1\n",
        "                \n",
        "        fig.show()\n",
        "        if y > 50:\n",
        "            raise Found\n",
        "       \n",
        "except Found:\n",
        "    print(\"end\")"
      ]
    },
    {
      "cell_type": "code",
      "execution_count": null,
      "id": "2208c49a",
      "metadata": {
        "id": "2208c49a"
      },
      "outputs": [],
      "source": [
        "import plotly.graph_objects as go\n",
        "y = 0\n",
        "\n",
        "class Found(Exception): pass\n",
        "try:\n",
        "    while len(key_non_str) > 0:\n",
        "        fig = go.Figure()\n",
        "\n",
        "        for i in range(5):\n",
        "            if y < len(key_non_str):\n",
        "                column = key_non_str[y]\n",
        "                key_non_str.remove(column)\n",
        "                fig.add_trace(go.Box(y=df[df[column] != -1][column] / np.max(df[column]), name = column))\n",
        "                y += 1\n",
        "                \n",
        "        fig.show()\n",
        "        if y > 50:\n",
        "            raise Found\n",
        "       \n",
        "except Found:\n",
        "    print(\"end\")"
      ]
    },
    {
      "cell_type": "code",
      "execution_count": null,
      "id": "281a74fc",
      "metadata": {
        "scrolled": false,
        "id": "281a74fc"
      },
      "outputs": [],
      "source": [
        "import plotly.graph_objects as go\n",
        "y = 0\n",
        "\n",
        "class Found(Exception): pass\n",
        "try:\n",
        "    while len(key_non_str) > 0:\n",
        "        fig = go.Figure()\n",
        "\n",
        "        for i in range(5):\n",
        "            if y < len(key_non_str):\n",
        "                column = key_non_str[y]\n",
        "                key_non_str.remove(column)\n",
        "                fig.add_trace(go.Box(y=df[df[column] != -1][column] / np.max(df[column]), name = column))\n",
        "                y += 1\n",
        "                \n",
        "        fig.show()\n",
        "        if y > 50:\n",
        "            raise Found\n",
        "       \n",
        "except Found:\n",
        "    print(\"end\")"
      ]
    }
  ],
  "metadata": {
    "kernelspec": {
      "display_name": "Python 3 (ipykernel)",
      "language": "python",
      "name": "python3"
    },
    "language_info": {
      "codemirror_mode": {
        "name": "ipython",
        "version": 3
      },
      "file_extension": ".py",
      "mimetype": "text/x-python",
      "name": "python",
      "nbconvert_exporter": "python",
      "pygments_lexer": "ipython3",
      "version": "3.9.13"
    },
    "colab": {
      "name": "traitement des valeur manquantes et extreme (2).ipynb",
      "provenance": []
    }
  },
  "nbformat": 4,
  "nbformat_minor": 5
}